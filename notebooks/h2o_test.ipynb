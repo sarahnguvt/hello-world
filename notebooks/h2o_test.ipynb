{
 "cells": [
  {
   "cell_type": "code",
   "execution_count": 1,
   "metadata": {},
   "outputs": [],
   "source": [
    "import pandas as pd\n",
    "import h2o"
   ]
  },
  {
   "cell_type": "code",
   "execution_count": 2,
   "metadata": {},
   "outputs": [
    {
     "name": "stdout",
     "output_type": "stream",
     "text": [
      "Checking whether there is an H2O instance running at http://localhost:54321..... not found.\n",
      "Attempting to start a local H2O server...\n",
      "  Java Version: java version \"1.8.0_171\"; Java(TM) SE Runtime Environment (build 1.8.0_171-b11); Java HotSpot(TM) 64-Bit Server VM (build 25.171-b11, mixed mode)\n",
      "  Starting server from /Users/xingyuwu/.pyenv/versions/2.7.13/lib/python2.7/site-packages/h2o/backend/bin/h2o.jar\n",
      "  Ice root: /var/folders/c9/yb13ttwx4pgcx49x_jwpj8w00000gn/T/tmpPbIpZO\n",
      "  JVM stdout: /var/folders/c9/yb13ttwx4pgcx49x_jwpj8w00000gn/T/tmpPbIpZO/h2o_xingyuwu_started_from_python.out\n",
      "  JVM stderr: /var/folders/c9/yb13ttwx4pgcx49x_jwpj8w00000gn/T/tmpPbIpZO/h2o_xingyuwu_started_from_python.err\n",
      "  Server is running at http://127.0.0.1:54321\n",
      "Connecting to H2O server at http://127.0.0.1:54321... successful.\n"
     ]
    },
    {
     "data": {
      "text/html": [
       "<div style=\"overflow:auto\"><table style=\"width:50%\"><tr><td>H2O cluster uptime:</td>\n",
       "<td>02 secs</td></tr>\n",
       "<tr><td>H2O cluster timezone:</td>\n",
       "<td>Asia/Shanghai</td></tr>\n",
       "<tr><td>H2O data parsing timezone:</td>\n",
       "<td>UTC</td></tr>\n",
       "<tr><td>H2O cluster version:</td>\n",
       "<td>3.20.0.7</td></tr>\n",
       "<tr><td>H2O cluster version age:</td>\n",
       "<td>18 days </td></tr>\n",
       "<tr><td>H2O cluster name:</td>\n",
       "<td>H2O_from_python_xingyuwu_qtw7k8</td></tr>\n",
       "<tr><td>H2O cluster total nodes:</td>\n",
       "<td>1</td></tr>\n",
       "<tr><td>H2O cluster free memory:</td>\n",
       "<td>3.556 Gb</td></tr>\n",
       "<tr><td>H2O cluster total cores:</td>\n",
       "<td>4</td></tr>\n",
       "<tr><td>H2O cluster allowed cores:</td>\n",
       "<td>4</td></tr>\n",
       "<tr><td>H2O cluster status:</td>\n",
       "<td>accepting new members, healthy</td></tr>\n",
       "<tr><td>H2O connection url:</td>\n",
       "<td>http://127.0.0.1:54321</td></tr>\n",
       "<tr><td>H2O connection proxy:</td>\n",
       "<td>None</td></tr>\n",
       "<tr><td>H2O internal security:</td>\n",
       "<td>False</td></tr>\n",
       "<tr><td>H2O API Extensions:</td>\n",
       "<td>XGBoost, Algos, AutoML, Core V3, Core V4</td></tr>\n",
       "<tr><td>Python version:</td>\n",
       "<td>2.7.13 final</td></tr></table></div>"
      ],
      "text/plain": [
       "--------------------------  ----------------------------------------\n",
       "H2O cluster uptime:         02 secs\n",
       "H2O cluster timezone:       Asia/Shanghai\n",
       "H2O data parsing timezone:  UTC\n",
       "H2O cluster version:        3.20.0.7\n",
       "H2O cluster version age:    18 days\n",
       "H2O cluster name:           H2O_from_python_xingyuwu_qtw7k8\n",
       "H2O cluster total nodes:    1\n",
       "H2O cluster free memory:    3.556 Gb\n",
       "H2O cluster total cores:    4\n",
       "H2O cluster allowed cores:  4\n",
       "H2O cluster status:         accepting new members, healthy\n",
       "H2O connection url:         http://127.0.0.1:54321\n",
       "H2O connection proxy:\n",
       "H2O internal security:      False\n",
       "H2O API Extensions:         XGBoost, Algos, AutoML, Core V3, Core V4\n",
       "Python version:             2.7.13 final\n",
       "--------------------------  ----------------------------------------"
      ]
     },
     "metadata": {},
     "output_type": "display_data"
    }
   ],
   "source": [
    "h2o.init()"
   ]
  },
  {
   "cell_type": "code",
   "execution_count": 13,
   "metadata": {},
   "outputs": [
    {
     "name": "stdout",
     "output_type": "stream",
     "text": [
      "Parse progress: |█████████████████████████████████████████████████████████| 100%\n"
     ]
    }
   ],
   "source": [
    "h2o_df = h2o.import_file(\"iris2.csv\")"
   ]
  },
  {
   "cell_type": "code",
   "execution_count": 15,
   "metadata": {},
   "outputs": [
    {
     "data": {
      "text/plain": [
       "h2o.frame.H2OFrame"
      ]
     },
     "execution_count": 15,
     "metadata": {},
     "output_type": "execute_result"
    }
   ],
   "source": [
    "type(h2o_df)"
   ]
  },
  {
   "cell_type": "code",
   "execution_count": 16,
   "metadata": {},
   "outputs": [
    {
     "data": {
      "text/html": [
       "<table>\n",
       "<thead>\n",
       "<tr><th style=\"text-align: right;\">  petal_length</th><th style=\"text-align: right;\">  petal_width</th><th style=\"text-align: right;\">  sepal_length</th><th style=\"text-align: right;\">  sepal_width</th><th>class  </th></tr>\n",
       "</thead>\n",
       "<tbody>\n",
       "<tr><td style=\"text-align: right;\">           5.1</td><td style=\"text-align: right;\">          3.5</td><td style=\"text-align: right;\">           1.4</td><td style=\"text-align: right;\">          0.2</td><td>a      </td></tr>\n",
       "<tr><td style=\"text-align: right;\">           4.9</td><td style=\"text-align: right;\">          3  </td><td style=\"text-align: right;\">           1.4</td><td style=\"text-align: right;\">          0.2</td><td>a      </td></tr>\n",
       "<tr><td style=\"text-align: right;\">           4.7</td><td style=\"text-align: right;\">          3.2</td><td style=\"text-align: right;\">           1.3</td><td style=\"text-align: right;\">          0.2</td><td>a      </td></tr>\n",
       "<tr><td style=\"text-align: right;\">           4.6</td><td style=\"text-align: right;\">          3.1</td><td style=\"text-align: right;\">           1.5</td><td style=\"text-align: right;\">          0.2</td><td>a      </td></tr>\n",
       "<tr><td style=\"text-align: right;\">           5  </td><td style=\"text-align: right;\">          3.6</td><td style=\"text-align: right;\">           1.4</td><td style=\"text-align: right;\">          0.2</td><td>a      </td></tr>\n",
       "</tbody>\n",
       "</table>"
      ]
     },
     "metadata": {},
     "output_type": "display_data"
    },
    {
     "data": {
      "text/plain": []
     },
     "execution_count": 16,
     "metadata": {},
     "output_type": "execute_result"
    }
   ],
   "source": [
    "h2o_df.head(5)"
   ]
  },
  {
   "cell_type": "code",
   "execution_count": 17,
   "metadata": {},
   "outputs": [
    {
     "name": "stdout",
     "output_type": "stream",
     "text": [
      "Rows:150\n",
      "Cols:5\n",
      "\n",
      "\n"
     ]
    },
    {
     "data": {
      "text/html": [
       "<table>\n",
       "<thead>\n",
       "<tr><th>       </th><th>petal_length  </th><th>petal_width   </th><th>sepal_length  </th><th>sepal_width   </th><th>class  </th></tr>\n",
       "</thead>\n",
       "<tbody>\n",
       "<tr><td>type   </td><td>real          </td><td>real          </td><td>real          </td><td>real          </td><td>enum   </td></tr>\n",
       "<tr><td>mins   </td><td>4.3           </td><td>2.0           </td><td>1.0           </td><td>0.1           </td><td>       </td></tr>\n",
       "<tr><td>mean   </td><td>5.84333333333 </td><td>3.054         </td><td>3.75866666667 </td><td>1.19866666667 </td><td>       </td></tr>\n",
       "<tr><td>maxs   </td><td>7.9           </td><td>4.4           </td><td>6.9           </td><td>2.5           </td><td>       </td></tr>\n",
       "<tr><td>sigma  </td><td>0.828066127978</td><td>0.433594311362</td><td>1.76442041995 </td><td>0.763160741701</td><td>       </td></tr>\n",
       "<tr><td>zeros  </td><td>0             </td><td>0             </td><td>0             </td><td>0             </td><td>       </td></tr>\n",
       "<tr><td>missing</td><td>0             </td><td>0             </td><td>0             </td><td>0             </td><td>0      </td></tr>\n",
       "<tr><td>0      </td><td>5.1           </td><td>3.5           </td><td>1.4           </td><td>0.2           </td><td>a      </td></tr>\n",
       "<tr><td>1      </td><td>4.9           </td><td>3.0           </td><td>1.4           </td><td>0.2           </td><td>a      </td></tr>\n",
       "<tr><td>2      </td><td>4.7           </td><td>3.2           </td><td>1.3           </td><td>0.2           </td><td>a      </td></tr>\n",
       "<tr><td>3      </td><td>4.6           </td><td>3.1           </td><td>1.5           </td><td>0.2           </td><td>a      </td></tr>\n",
       "<tr><td>4      </td><td>5.0           </td><td>3.6           </td><td>1.4           </td><td>0.2           </td><td>a      </td></tr>\n",
       "<tr><td>5      </td><td>5.4           </td><td>3.9           </td><td>1.7           </td><td>0.4           </td><td>a      </td></tr>\n",
       "<tr><td>6      </td><td>4.6           </td><td>3.4           </td><td>1.4           </td><td>0.3           </td><td>a      </td></tr>\n",
       "<tr><td>7      </td><td>5.0           </td><td>3.4           </td><td>1.5           </td><td>0.2           </td><td>a      </td></tr>\n",
       "<tr><td>8      </td><td>4.4           </td><td>2.9           </td><td>1.4           </td><td>0.2           </td><td>a      </td></tr>\n",
       "<tr><td>9      </td><td>4.9           </td><td>3.1           </td><td>1.5           </td><td>0.1           </td><td>a      </td></tr>\n",
       "</tbody>\n",
       "</table>"
      ]
     },
     "metadata": {},
     "output_type": "display_data"
    }
   ],
   "source": [
    "h2o_df.describe()"
   ]
  },
  {
   "cell_type": "code",
   "execution_count": 19,
   "metadata": {},
   "outputs": [],
   "source": [
    "from h2o.estimators.gbm import H2OGradientBoostingEstimator"
   ]
  },
  {
   "cell_type": "code",
   "execution_count": 21,
   "metadata": {},
   "outputs": [],
   "source": [
    "gbm_classifier = H2OGradientBoostingEstimator(\n",
    "    distribution=\" multinomial\", ntrees=10, max_depth=3, min_rows=2, learn_rate=0.2)"
   ]
  },
  {
   "cell_type": "code",
   "execution_count": 22,
   "metadata": {},
   "outputs": [
    {
     "name": "stdout",
     "output_type": "stream",
     "text": [
      "gbm Model Build progress: |███████████████████████████████████████████████| 100%\n"
     ]
    }
   ],
   "source": [
    "gbm_classifier.train(x=range(0,h2o_df.ncol-1), y=h2o_df.ncol-1,\n",
    "         training_frame=h2o_df)"
   ]
  },
  {
   "cell_type": "code",
   "execution_count": 23,
   "metadata": {},
   "outputs": [
    {
     "name": "stdout",
     "output_type": "stream",
     "text": [
      "Model Details\n",
      "=============\n",
      "H2OGradientBoostingEstimator :  Gradient Boosting Machine\n",
      "Model Key:  GBM_model_python_1537338076215_1\n",
      "\n",
      "\n",
      "ModelMetricsMultinomial: gbm\n",
      "** Reported on train data. **\n",
      "\n",
      "MSE: 0.00976685303214\n",
      "RMSE: 0.0988273900907\n",
      "LogLoss: 0.0782480973696\n",
      "Mean Per-Class Error: 0.00666666666667\n",
      "Confusion Matrix: Row labels: Actual class; Column labels: Predicted class\n",
      "\n"
     ]
    },
    {
     "data": {
      "text/html": [
       "<div style=\"overflow:auto\"><table style=\"width:50%\"><tr><td><b>a</b></td>\n",
       "<td><b>b</b></td>\n",
       "<td><b>c</b></td>\n",
       "<td><b>Error</b></td>\n",
       "<td><b>Rate</b></td></tr>\n",
       "<tr><td>50.0</td>\n",
       "<td>0.0</td>\n",
       "<td>0.0</td>\n",
       "<td>0.0</td>\n",
       "<td>0 / 50</td></tr>\n",
       "<tr><td>0.0</td>\n",
       "<td>49.0</td>\n",
       "<td>1.0</td>\n",
       "<td>0.02</td>\n",
       "<td>1 / 50</td></tr>\n",
       "<tr><td>0.0</td>\n",
       "<td>0.0</td>\n",
       "<td>50.0</td>\n",
       "<td>0.0</td>\n",
       "<td>0 / 50</td></tr>\n",
       "<tr><td>50.0</td>\n",
       "<td>49.0</td>\n",
       "<td>51.0</td>\n",
       "<td>0.0066667</td>\n",
       "<td>1 / 150</td></tr></table></div>"
      ],
      "text/plain": [
       "a    b    c    Error       Rate\n",
       "---  ---  ---  ----------  -------\n",
       "50   0    0    0           0 / 50\n",
       "0    49   1    0.02        1 / 50\n",
       "0    0    50   0           0 / 50\n",
       "50   49   51   0.00666667  1 / 150"
      ]
     },
     "metadata": {},
     "output_type": "display_data"
    },
    {
     "name": "stdout",
     "output_type": "stream",
     "text": [
      "Top-3 Hit Ratios: \n"
     ]
    },
    {
     "data": {
      "text/html": [
       "<div style=\"overflow:auto\"><table style=\"width:50%\"><tr><td><b>k</b></td>\n",
       "<td><b>hit_ratio</b></td></tr>\n",
       "<tr><td>1</td>\n",
       "<td>0.9933333</td></tr>\n",
       "<tr><td>2</td>\n",
       "<td>1.0</td></tr>\n",
       "<tr><td>3</td>\n",
       "<td>1.0</td></tr></table></div>"
      ],
      "text/plain": [
       "k    hit_ratio\n",
       "---  -----------\n",
       "1    0.993333\n",
       "2    1\n",
       "3    1"
      ]
     },
     "metadata": {},
     "output_type": "display_data"
    },
    {
     "name": "stdout",
     "output_type": "stream",
     "text": [
      "Scoring History: \n"
     ]
    },
    {
     "data": {
      "text/html": [
       "<div style=\"overflow:auto\"><table style=\"width:50%\"><tr><td><b></b></td>\n",
       "<td><b>timestamp</b></td>\n",
       "<td><b>duration</b></td>\n",
       "<td><b>number_of_trees</b></td>\n",
       "<td><b>training_rmse</b></td>\n",
       "<td><b>training_logloss</b></td>\n",
       "<td><b>training_classification_error</b></td></tr>\n",
       "<tr><td></td>\n",
       "<td>2018-09-19 14:37:31</td>\n",
       "<td> 0.044 sec</td>\n",
       "<td>0.0</td>\n",
       "<td>0.6666667</td>\n",
       "<td>1.0986123</td>\n",
       "<td>0.64</td></tr>\n",
       "<tr><td></td>\n",
       "<td>2018-09-19 14:37:31</td>\n",
       "<td> 0.188 sec</td>\n",
       "<td>1.0</td>\n",
       "<td>0.5313437</td>\n",
       "<td>0.7584115</td>\n",
       "<td>0.0266667</td></tr>\n",
       "<tr><td></td>\n",
       "<td>2018-09-19 14:37:31</td>\n",
       "<td> 0.217 sec</td>\n",
       "<td>2.0</td>\n",
       "<td>0.4233365</td>\n",
       "<td>0.5505065</td>\n",
       "<td>0.0266667</td></tr>\n",
       "<tr><td></td>\n",
       "<td>2018-09-19 14:37:31</td>\n",
       "<td> 0.239 sec</td>\n",
       "<td>3.0</td>\n",
       "<td>0.3390480</td>\n",
       "<td>0.4121733</td>\n",
       "<td>0.0266667</td></tr>\n",
       "<tr><td></td>\n",
       "<td>2018-09-19 14:37:31</td>\n",
       "<td> 0.262 sec</td>\n",
       "<td>4.0</td>\n",
       "<td>0.2728966</td>\n",
       "<td>0.3135394</td>\n",
       "<td>0.02</td></tr>\n",
       "<tr><td></td>\n",
       "<td>2018-09-19 14:37:31</td>\n",
       "<td> 0.279 sec</td>\n",
       "<td>5.0</td>\n",
       "<td>0.2232307</td>\n",
       "<td>0.2435139</td>\n",
       "<td>0.02</td></tr>\n",
       "<tr><td></td>\n",
       "<td>2018-09-19 14:37:31</td>\n",
       "<td> 0.294 sec</td>\n",
       "<td>6.0</td>\n",
       "<td>0.1846307</td>\n",
       "<td>0.1909104</td>\n",
       "<td>0.0066667</td></tr>\n",
       "<tr><td></td>\n",
       "<td>2018-09-19 14:37:31</td>\n",
       "<td> 0.313 sec</td>\n",
       "<td>7.0</td>\n",
       "<td>0.1552645</td>\n",
       "<td>0.1513943</td>\n",
       "<td>0.0066667</td></tr>\n",
       "<tr><td></td>\n",
       "<td>2018-09-19 14:37:31</td>\n",
       "<td> 0.326 sec</td>\n",
       "<td>8.0</td>\n",
       "<td>0.1326877</td>\n",
       "<td>0.1208821</td>\n",
       "<td>0.0066667</td></tr>\n",
       "<tr><td></td>\n",
       "<td>2018-09-19 14:37:31</td>\n",
       "<td> 0.344 sec</td>\n",
       "<td>9.0</td>\n",
       "<td>0.1144659</td>\n",
       "<td>0.0975897</td>\n",
       "<td>0.0066667</td></tr>\n",
       "<tr><td></td>\n",
       "<td>2018-09-19 14:37:31</td>\n",
       "<td> 0.355 sec</td>\n",
       "<td>10.0</td>\n",
       "<td>0.0988274</td>\n",
       "<td>0.0782481</td>\n",
       "<td>0.0066667</td></tr></table></div>"
      ],
      "text/plain": [
       "    timestamp            duration    number_of_trees    training_rmse    training_logloss    training_classification_error\n",
       "--  -------------------  ----------  -----------------  ---------------  ------------------  -------------------------------\n",
       "    2018-09-19 14:37:31  0.044 sec   0                  0.666667         1.09861             0.64\n",
       "    2018-09-19 14:37:31  0.188 sec   1                  0.531344         0.758411            0.0266667\n",
       "    2018-09-19 14:37:31  0.217 sec   2                  0.423337         0.550506            0.0266667\n",
       "    2018-09-19 14:37:31  0.239 sec   3                  0.339048         0.412173            0.0266667\n",
       "    2018-09-19 14:37:31  0.262 sec   4                  0.272897         0.313539            0.02\n",
       "    2018-09-19 14:37:31  0.279 sec   5                  0.223231         0.243514            0.02\n",
       "    2018-09-19 14:37:31  0.294 sec   6                  0.184631         0.19091             0.00666667\n",
       "    2018-09-19 14:37:31  0.313 sec   7                  0.155265         0.151394            0.00666667\n",
       "    2018-09-19 14:37:31  0.326 sec   8                  0.132688         0.120882            0.00666667\n",
       "    2018-09-19 14:37:31  0.344 sec   9                  0.114466         0.0975897           0.00666667\n",
       "    2018-09-19 14:37:31  0.355 sec   10                 0.0988274        0.0782481           0.00666667"
      ]
     },
     "metadata": {},
     "output_type": "display_data"
    },
    {
     "name": "stdout",
     "output_type": "stream",
     "text": [
      "Variable Importances: \n"
     ]
    },
    {
     "data": {
      "text/html": [
       "<div style=\"overflow:auto\"><table style=\"width:50%\"><tr><td><b>variable</b></td>\n",
       "<td><b>relative_importance</b></td>\n",
       "<td><b>scaled_importance</b></td>\n",
       "<td><b>percentage</b></td></tr>\n",
       "<tr><td>sepal_width</td>\n",
       "<td>192.7606506</td>\n",
       "<td>1.0</td>\n",
       "<td>0.7743739</td></tr>\n",
       "<tr><td>sepal_length</td>\n",
       "<td>54.0381165</td>\n",
       "<td>0.2803379</td>\n",
       "<td>0.2170864</td></tr>\n",
       "<tr><td>petal_length</td>\n",
       "<td>1.3527106</td>\n",
       "<td>0.0070176</td>\n",
       "<td>0.0054342</td></tr>\n",
       "<tr><td>petal_width</td>\n",
       "<td>0.7730322</td>\n",
       "<td>0.0040103</td>\n",
       "<td>0.0031055</td></tr></table></div>"
      ],
      "text/plain": [
       "variable      relative_importance    scaled_importance    percentage\n",
       "------------  ---------------------  -------------------  ------------\n",
       "sepal_width   192.761                1                    0.774374\n",
       "sepal_length  54.0381                0.280338             0.217086\n",
       "petal_length  1.35271                0.00701757           0.00543422\n",
       "petal_width   0.773032               0.00401032           0.00310549"
      ]
     },
     "metadata": {},
     "output_type": "display_data"
    },
    {
     "data": {
      "text/plain": []
     },
     "execution_count": 23,
     "metadata": {},
     "output_type": "execute_result"
    }
   ],
   "source": [
    "gbm_classifier"
   ]
  },
  {
   "cell_type": "code",
   "execution_count": null,
   "metadata": {},
   "outputs": [],
   "source": []
  }
 ],
 "metadata": {
  "kernelspec": {
   "display_name": "Python 2",
   "language": "python",
   "name": "python2"
  },
  "language_info": {
   "codemirror_mode": {
    "name": "ipython",
    "version": 2
   },
   "file_extension": ".py",
   "mimetype": "text/x-python",
   "name": "python",
   "nbconvert_exporter": "python",
   "pygments_lexer": "ipython2",
   "version": "2.7.13"
  }
 },
 "nbformat": 4,
 "nbformat_minor": 2
}
